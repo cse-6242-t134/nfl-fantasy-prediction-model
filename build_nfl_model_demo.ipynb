{
 "cells": [
  {
   "cell_type": "code",
   "execution_count": 17,
   "metadata": {},
   "outputs": [],
   "source": [
    "import build_nfl_model as nfl_mod\n",
    "\n",
    "\n",
    "from sklearn.metrics import mean_absolute_error, mean_squared_error, r2_score\n"
   ]
  },
  {
   "cell_type": "code",
   "execution_count": 19,
   "metadata": {},
   "outputs": [
    {
     "data": {
      "text/plain": [
       "<module 'build_nfl_model' from 'c:\\\\Users\\\\chris\\\\OneDrive\\\\Desktop\\\\Team-134-CSE-6242-Project\\\\build_nfl_model.py'>"
      ]
     },
     "execution_count": 19,
     "metadata": {},
     "output_type": "execute_result"
    }
   ],
   "source": [
    "from importlib import reload\n",
    "\n",
    "reload(nfl_mod)"
   ]
  },
  {
   "cell_type": "code",
   "execution_count": null,
   "metadata": {},
   "outputs": [
    {
     "name": "stdout",
     "output_type": "stream",
     "text": [
      "2024 done.\n",
      "2023 done.\n",
      "2022 done.\n",
      "2021 done.\n",
      "2020 done.\n",
      "2019 done.\n",
      "2018 done.\n",
      "2017 done.\n",
      "2016 done.\n",
      "2015 done.\n",
      "2014 done.\n"
     ]
    }
   ],
   "source": [
    "class_obj = nfl_mod.NFLModel('fantasy_points')"
   ]
  },
  {
   "cell_type": "markdown",
   "metadata": {},
   "source": [
    "# Purpose\n",
    "\n",
    "The purpose of this notebook is to demonstrate the use of the build_nfl_model.py module. \n",
    "\n",
    "This will showcase the process step by step and also showcase it using the method that runs the whole process in it's entirety."
   ]
  },
  {
   "cell_type": "markdown",
   "metadata": {},
   "source": [
    "## Kicker Defense"
   ]
  },
  {
   "cell_type": "code",
   "execution_count": 14,
   "metadata": {},
   "outputs": [
    {
     "name": "stdout",
     "output_type": "stream",
     "text": [
      "Swapping 'posteam' and 'defteam' for 68380 kickoff plays...\n",
      "Swap complete.\n",
      "Data processing for 'df_kicker_pbp' completed.\n",
      "Kicker play-by-play data processing completed successfully.\n",
      "DataFrames merged successfully into 'df_combined'.\n",
      "No non-numerical columns to convert.\n",
      "MAE: 3.1592295263889687\n",
      "MSE: 17.065156553962122\n"
     ]
    }
   ],
   "source": [
    "class_obj.generate_features_kicker_defense()\n",
    "class_obj.train_kicker_defense_model()\n",
    "\n",
    "y_pred_train = class_obj.kicker_defense_model.predict(class_obj.kicker_defense_x_train)\n",
    "y_pred_test = class_obj.kicker_defense_model.predict(class_obj.kicker_defense_x_test)\n",
    "\n",
    "\n",
    "\n",
    "\n",
    "print(\"MAE: \" + str(mean_absolute_error(y_pred_test, class_obj.kicker_defense_y_test)))\n",
    "\n",
    "print(\"MSE: \" + str(mean_squared_error(y_pred_test, class_obj.kicker_defense_y_test)))"
   ]
  },
  {
   "cell_type": "markdown",
   "metadata": {},
   "source": []
  },
  {
   "cell_type": "markdown",
   "metadata": {},
   "source": [
    "## QB"
   ]
  },
  {
   "cell_type": "code",
   "execution_count": 15,
   "metadata": {},
   "outputs": [
    {
     "name": "stderr",
     "output_type": "stream",
     "text": [
      "c:\\Users\\chris\\OneDrive\\Desktop\\Team-134-CSE-6242-Project\\build_nfl_model.py:584: SettingWithCopyWarning: \n",
      "A value is trying to be set on a copy of a slice from a DataFrame\n",
      "\n",
      "See the caveats in the documentation: https://pandas.pydata.org/pandas-docs/stable/user_guide/indexing.html#returning-a-view-versus-a-copy\n",
      "  \n"
     ]
    },
    {
     "name": "stdout",
     "output_type": "stream",
     "text": [
      "No non-numerical columns to convert.\n",
      "MAE: 15.111407628144084\n",
      "MSE: 363.1773134534158\n"
     ]
    }
   ],
   "source": [
    "class_obj.generate_qb_features()\n",
    "class_obj.train_qb_model()\n",
    "\n",
    "y_pred_train = class_obj.qb_model.predict(class_obj.qb_x_train)\n",
    "y_pred_test = class_obj.qb_model.predict(class_obj.qb_x_test)\n",
    "\n",
    "\n",
    "\n",
    "\n",
    "print(\"MAE: \" + str(mean_absolute_error(y_pred_test, class_obj.qb_y_test)))\n",
    "\n",
    "print(\"MSE: \" + str(mean_squared_error(y_pred_test, class_obj.qb_y_test)))"
   ]
  },
  {
   "cell_type": "code",
   "execution_count": null,
   "metadata": {},
   "outputs": [],
   "source": []
  },
  {
   "cell_type": "markdown",
   "metadata": {},
   "source": [
    "# RB_WR"
   ]
  },
  {
   "cell_type": "code",
   "execution_count": 16,
   "metadata": {},
   "outputs": [
    {
     "name": "stderr",
     "output_type": "stream",
     "text": [
      "c:\\Users\\chris\\OneDrive\\Desktop\\Team-134-CSE-6242-Project\\build_nfl_model.py:290: PerformanceWarning: DataFrame is highly fragmented.  This is usually the result of calling `frame.insert` many times, which has poor performance.  Consider joining all columns at once using pd.concat(axis=1) instead. To get a de-fragmented frame, use `newframe = frame.copy()`\n",
      "  'pass_attempt': 'sum',\n",
      "c:\\Users\\chris\\OneDrive\\Desktop\\Team-134-CSE-6242-Project\\build_nfl_model.py:290: SettingWithCopyWarning: \n",
      "A value is trying to be set on a copy of a slice from a DataFrame.\n",
      "Try using .loc[row_indexer,col_indexer] = value instead\n",
      "\n",
      "See the caveats in the documentation: https://pandas.pydata.org/pandas-docs/stable/user_guide/indexing.html#returning-a-view-versus-a-copy\n",
      "  'pass_attempt': 'sum',\n",
      "c:\\Users\\chris\\OneDrive\\Desktop\\Team-134-CSE-6242-Project\\build_nfl_model.py:292: SettingWithCopyWarning: \n",
      "A value is trying to be set on a copy of a slice from a DataFrame\n",
      "\n",
      "See the caveats in the documentation: https://pandas.pydata.org/pandas-docs/stable/user_guide/indexing.html#returning-a-view-versus-a-copy\n",
      "  'interception': 'sum',\n",
      "c:\\Users\\chris\\OneDrive\\Desktop\\Team-134-CSE-6242-Project\\build_nfl_model.py:336: SettingWithCopyWarning: \n",
      "A value is trying to be set on a copy of a slice from a DataFrame.\n",
      "Try using .loc[row_indexer,col_indexer] = value instead\n",
      "\n",
      "See the caveats in the documentation: https://pandas.pydata.org/pandas-docs/stable/user_guide/indexing.html#returning-a-view-versus-a-copy\n",
      "  'pass_attempt': 'sum',\n",
      "c:\\Users\\chris\\OneDrive\\Desktop\\Team-134-CSE-6242-Project\\build_nfl_model.py:456: SettingWithCopyWarning: \n",
      "A value is trying to be set on a copy of a slice from a DataFrame\n",
      "\n",
      "See the caveats in the documentation: https://pandas.pydata.org/pandas-docs/stable/user_guide/indexing.html#returning-a-view-versus-a-copy\n",
      "  \n"
     ]
    },
    {
     "ename": "KeyError",
     "evalue": "\"['home_team_BUF', 'home_team_GB', 'home_team_TEN', 'away_team_CHI', 'away_team_DET', 'away_team_GB', 'away_team_IND', 'away_team_NE', 'away_team_NYJ', 'away_team_PIT', 'away_team_SF', 'away_team_WAS', 'opponent_team_BAL', 'opponent_team_BUF', 'opponent_team_CAR', 'opponent_team_CIN', 'opponent_team_DEN', 'opponent_team_DET', 'opponent_team_KC', 'opponent_team_LV', 'opponent_team_PIT', 'opponent_team_TEN'] not in index\"",
     "output_type": "error",
     "traceback": [
      "\u001b[1;31m---------------------------------------------------------------------------\u001b[0m",
      "\u001b[1;31mKeyError\u001b[0m                                  Traceback (most recent call last)",
      "Cell \u001b[1;32mIn[16], line 2\u001b[0m\n\u001b[0;32m      1\u001b[0m class_obj\u001b[38;5;241m.\u001b[39mgenerate_features_rb_wr()\n\u001b[1;32m----> 2\u001b[0m class_obj\u001b[38;5;241m.\u001b[39mtrain_rb_wr_model()\n\u001b[0;32m      4\u001b[0m y_pred_train \u001b[38;5;241m=\u001b[39m class_obj\u001b[38;5;241m.\u001b[39mrb_wr_model\u001b[38;5;241m.\u001b[39mpredict(class_obj\u001b[38;5;241m.\u001b[39mrb_wr_x_train)\n\u001b[0;32m      5\u001b[0m y_pred_test \u001b[38;5;241m=\u001b[39m class_obj\u001b[38;5;241m.\u001b[39mrb_wr_model\u001b[38;5;241m.\u001b[39mpredict(class_obj\u001b[38;5;241m.\u001b[39mrb_wr_x_test)\n",
      "File \u001b[1;32mc:\\Users\\chris\\OneDrive\\Desktop\\Team-134-CSE-6242-Project\\build_nfl_model.py:901\u001b[0m, in \u001b[0;36mNFLModel.train_rb_wr_model\u001b[1;34m(self)\u001b[0m\n\u001b[0;32m    899\u001b[0m \u001b[38;5;28;01mdef\u001b[39;00m \u001b[38;5;21mtrain_rb_wr_model\u001b[39m(\u001b[38;5;28mself\u001b[39m):\n\u001b[1;32m--> 901\u001b[0m     df \u001b[38;5;241m=\u001b[39m \u001b[38;5;28mself\u001b[39m\u001b[38;5;241m.\u001b[39mrusher_receiver_features_df[\u001b[38;5;28mself\u001b[39m\u001b[38;5;241m.\u001b[39mrb_wr_features \u001b[38;5;241m+\u001b[39m [\u001b[38;5;124m'\u001b[39m\u001b[38;5;124mfantasy_points\u001b[39m\u001b[38;5;124m'\u001b[39m]]\u001b[38;5;241m.\u001b[39mcopy()\n\u001b[0;32m    902\u001b[0m     df \u001b[38;5;241m=\u001b[39m \u001b[38;5;28mself\u001b[39m\u001b[38;5;241m.\u001b[39mget_dummy_variables(df)\n\u001b[0;32m    904\u001b[0m     \u001b[38;5;28mself\u001b[39m\u001b[38;5;241m.\u001b[39mrb_wr_x_train,\u001b[38;5;28mself\u001b[39m\u001b[38;5;241m.\u001b[39mrb_wr_x_test,\u001b[38;5;28mself\u001b[39m\u001b[38;5;241m.\u001b[39mrb_wr_y_train,\u001b[38;5;28mself\u001b[39m\u001b[38;5;241m.\u001b[39mrb_wr_y_test \u001b[38;5;241m=\u001b[39m \u001b[38;5;28mself\u001b[39m\u001b[38;5;241m.\u001b[39mpreprocess_data(df, \u001b[38;5;124m'\u001b[39m\u001b[38;5;124mfantasy_points\u001b[39m\u001b[38;5;124m'\u001b[39m)\n",
      "File \u001b[1;32mc:\\Users\\chris\\anaconda3\\Lib\\site-packages\\pandas\\core\\frame.py:4108\u001b[0m, in \u001b[0;36mDataFrame.__getitem__\u001b[1;34m(self, key)\u001b[0m\n\u001b[0;32m   4106\u001b[0m     \u001b[38;5;28;01mif\u001b[39;00m is_iterator(key):\n\u001b[0;32m   4107\u001b[0m         key \u001b[38;5;241m=\u001b[39m \u001b[38;5;28mlist\u001b[39m(key)\n\u001b[1;32m-> 4108\u001b[0m     indexer \u001b[38;5;241m=\u001b[39m \u001b[38;5;28mself\u001b[39m\u001b[38;5;241m.\u001b[39mcolumns\u001b[38;5;241m.\u001b[39m_get_indexer_strict(key, \u001b[38;5;124m\"\u001b[39m\u001b[38;5;124mcolumns\u001b[39m\u001b[38;5;124m\"\u001b[39m)[\u001b[38;5;241m1\u001b[39m]\n\u001b[0;32m   4110\u001b[0m \u001b[38;5;66;03m# take() does not accept boolean indexers\u001b[39;00m\n\u001b[0;32m   4111\u001b[0m \u001b[38;5;28;01mif\u001b[39;00m \u001b[38;5;28mgetattr\u001b[39m(indexer, \u001b[38;5;124m\"\u001b[39m\u001b[38;5;124mdtype\u001b[39m\u001b[38;5;124m\"\u001b[39m, \u001b[38;5;28;01mNone\u001b[39;00m) \u001b[38;5;241m==\u001b[39m \u001b[38;5;28mbool\u001b[39m:\n",
      "File \u001b[1;32mc:\\Users\\chris\\anaconda3\\Lib\\site-packages\\pandas\\core\\indexes\\base.py:6200\u001b[0m, in \u001b[0;36mIndex._get_indexer_strict\u001b[1;34m(self, key, axis_name)\u001b[0m\n\u001b[0;32m   6197\u001b[0m \u001b[38;5;28;01melse\u001b[39;00m:\n\u001b[0;32m   6198\u001b[0m     keyarr, indexer, new_indexer \u001b[38;5;241m=\u001b[39m \u001b[38;5;28mself\u001b[39m\u001b[38;5;241m.\u001b[39m_reindex_non_unique(keyarr)\n\u001b[1;32m-> 6200\u001b[0m \u001b[38;5;28mself\u001b[39m\u001b[38;5;241m.\u001b[39m_raise_if_missing(keyarr, indexer, axis_name)\n\u001b[0;32m   6202\u001b[0m keyarr \u001b[38;5;241m=\u001b[39m \u001b[38;5;28mself\u001b[39m\u001b[38;5;241m.\u001b[39mtake(indexer)\n\u001b[0;32m   6203\u001b[0m \u001b[38;5;28;01mif\u001b[39;00m \u001b[38;5;28misinstance\u001b[39m(key, Index):\n\u001b[0;32m   6204\u001b[0m     \u001b[38;5;66;03m# GH 42790 - Preserve name from an Index\u001b[39;00m\n",
      "File \u001b[1;32mc:\\Users\\chris\\anaconda3\\Lib\\site-packages\\pandas\\core\\indexes\\base.py:6252\u001b[0m, in \u001b[0;36mIndex._raise_if_missing\u001b[1;34m(self, key, indexer, axis_name)\u001b[0m\n\u001b[0;32m   6249\u001b[0m     \u001b[38;5;28;01mraise\u001b[39;00m \u001b[38;5;167;01mKeyError\u001b[39;00m(\u001b[38;5;124mf\u001b[39m\u001b[38;5;124m\"\u001b[39m\u001b[38;5;124mNone of [\u001b[39m\u001b[38;5;132;01m{\u001b[39;00mkey\u001b[38;5;132;01m}\u001b[39;00m\u001b[38;5;124m] are in the [\u001b[39m\u001b[38;5;132;01m{\u001b[39;00maxis_name\u001b[38;5;132;01m}\u001b[39;00m\u001b[38;5;124m]\u001b[39m\u001b[38;5;124m\"\u001b[39m)\n\u001b[0;32m   6251\u001b[0m not_found \u001b[38;5;241m=\u001b[39m \u001b[38;5;28mlist\u001b[39m(ensure_index(key)[missing_mask\u001b[38;5;241m.\u001b[39mnonzero()[\u001b[38;5;241m0\u001b[39m]]\u001b[38;5;241m.\u001b[39munique())\n\u001b[1;32m-> 6252\u001b[0m \u001b[38;5;28;01mraise\u001b[39;00m \u001b[38;5;167;01mKeyError\u001b[39;00m(\u001b[38;5;124mf\u001b[39m\u001b[38;5;124m\"\u001b[39m\u001b[38;5;132;01m{\u001b[39;00mnot_found\u001b[38;5;132;01m}\u001b[39;00m\u001b[38;5;124m not in index\u001b[39m\u001b[38;5;124m\"\u001b[39m)\n",
      "\u001b[1;31mKeyError\u001b[0m: \"['home_team_BUF', 'home_team_GB', 'home_team_TEN', 'away_team_CHI', 'away_team_DET', 'away_team_GB', 'away_team_IND', 'away_team_NE', 'away_team_NYJ', 'away_team_PIT', 'away_team_SF', 'away_team_WAS', 'opponent_team_BAL', 'opponent_team_BUF', 'opponent_team_CAR', 'opponent_team_CIN', 'opponent_team_DEN', 'opponent_team_DET', 'opponent_team_KC', 'opponent_team_LV', 'opponent_team_PIT', 'opponent_team_TEN'] not in index\""
     ]
    }
   ],
   "source": [
    "class_obj.generate_features_rb_wr()\n",
    "class_obj.train_rb_wr_model()\n",
    "\n",
    "y_pred_train = class_obj.rb_wr_model.predict(class_obj.rb_wr_x_train)\n",
    "y_pred_test = class_obj.rb_wr_model.predict(class_obj.rb_wr_x_test)\n",
    "\n",
    "\n",
    "\n",
    "\n",
    "print(\"MAE: \" + str(mean_absolute_error(y_pred_test, class_obj.rb_wr_y_test)))\n",
    "\n",
    "print(\"MSE: \" + str(mean_squared_error(y_pred_test, class_obj.rb_wr_y_test)))"
   ]
  },
  {
   "cell_type": "code",
   "execution_count": null,
   "metadata": {},
   "outputs": [],
   "source": []
  },
  {
   "cell_type": "markdown",
   "metadata": {},
   "source": []
  }
 ],
 "metadata": {
  "kernelspec": {
   "display_name": "base",
   "language": "python",
   "name": "python3"
  },
  "language_info": {
   "codemirror_mode": {
    "name": "ipython",
    "version": 3
   },
   "file_extension": ".py",
   "mimetype": "text/x-python",
   "name": "python",
   "nbconvert_exporter": "python",
   "pygments_lexer": "ipython3",
   "version": "3.11.5"
  }
 },
 "nbformat": 4,
 "nbformat_minor": 2
}
