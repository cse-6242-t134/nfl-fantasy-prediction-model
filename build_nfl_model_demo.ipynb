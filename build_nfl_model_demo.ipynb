{
 "cells": [
  {
   "cell_type": "code",
   "execution_count": 2,
   "metadata": {},
   "outputs": [
    {
     "name": "stderr",
     "output_type": "stream",
     "text": [
      "c:\\Users\\chris\\anaconda3\\Lib\\site-packages\\pandas\\core\\arrays\\masked.py:60: UserWarning: Pandas requires version '1.3.6' or newer of 'bottleneck' (version '1.3.5' currently installed).\n",
      "  from pandas.core import (\n"
     ]
    }
   ],
   "source": [
    "import build_nfl_model as nfl_mod\n",
    "\n",
    "\n",
    "from sklearn.metrics import mean_absolute_error, mean_squared_error, r2_score\n"
   ]
  },
  {
   "cell_type": "code",
   "execution_count": 3,
   "metadata": {},
   "outputs": [
    {
     "data": {
      "text/plain": [
       "<module 'build_nfl_model' from 'c:\\\\Users\\\\chris\\\\OneDrive\\\\Desktop\\\\Team-134-CSE-6242-Project\\\\build_nfl_model.py'>"
      ]
     },
     "execution_count": 3,
     "metadata": {},
     "output_type": "execute_result"
    }
   ],
   "source": [
    "from importlib import reload\n",
    "\n",
    "reload(nfl_mod)"
   ]
  },
  {
   "cell_type": "code",
   "execution_count": 4,
   "metadata": {},
   "outputs": [
    {
     "name": "stdout",
     "output_type": "stream",
     "text": [
      "2024 done.\n",
      "2023 done.\n",
      "2022 done.\n",
      "2021 done.\n",
      "2020 done.\n",
      "2019 done.\n",
      "2018 done.\n",
      "2017 done.\n",
      "2016 done.\n",
      "2015 done.\n",
      "2014 done.\n",
      "2013 done.\n",
      "2012 done.\n",
      "2011 done.\n",
      "2010 done.\n",
      "2009 done.\n",
      "2008 done.\n",
      "2007 done.\n",
      "2006 done.\n",
      "2005 done.\n",
      "2004 done.\n",
      "2003 done.\n",
      "2002 done.\n",
      "2001 done.\n",
      "2000 done.\n",
      "1999 done.\n",
      "Downcasting floats.\n"
     ]
    }
   ],
   "source": [
    "class_obj = nfl_mod.NFLModel('fantasy_points')"
   ]
  },
  {
   "cell_type": "markdown",
   "metadata": {},
   "source": [
    "# Purpose\n",
    "\n",
    "The purpose of this notebook is to demonstrate the use of the build_nfl_model.py module. \n",
    "\n",
    "This will showcase the process step by step and also showcase it using the method that runs the whole process in it's entirety."
   ]
  },
  {
   "cell_type": "markdown",
   "metadata": {},
   "source": [
    "## Kicker Defense"
   ]
  },
  {
   "cell_type": "code",
   "execution_count": 14,
   "metadata": {},
   "outputs": [
    {
     "name": "stdout",
     "output_type": "stream",
     "text": [
      "Swapping 'posteam' and 'defteam' for 68380 kickoff plays...\n",
      "Swap complete.\n",
      "Data processing for 'df_kicker_pbp' completed.\n",
      "Kicker play-by-play data processing completed successfully.\n",
      "DataFrames merged successfully into 'df_combined'.\n",
      "No non-numerical columns to convert.\n",
      "MAE: 3.1592295263889687\n",
      "MSE: 17.065156553962122\n"
     ]
    }
   ],
   "source": [
    "class_obj.generate_features_kicker_defense()\n",
    "class_obj.train_kicker_defense_model()\n",
    "\n",
    "y_pred_train = class_obj.kicker_defense_model.predict(class_obj.kicker_defense_x_train)\n",
    "y_pred_test = class_obj.kicker_defense_model.predict(class_obj.kicker_defense_x_test)\n",
    "\n",
    "\n",
    "\n",
    "\n",
    "print(\"MAE: \" + str(mean_absolute_error(y_pred_test, class_obj.kicker_defense_y_test)))\n",
    "\n",
    "print(\"MSE: \" + str(mean_squared_error(y_pred_test, class_obj.kicker_defense_y_test)))"
   ]
  },
  {
   "cell_type": "markdown",
   "metadata": {},
   "source": []
  },
  {
   "cell_type": "markdown",
   "metadata": {},
   "source": [
    "## QB"
   ]
  },
  {
   "cell_type": "code",
   "execution_count": 15,
   "metadata": {},
   "outputs": [
    {
     "name": "stderr",
     "output_type": "stream",
     "text": [
      "c:\\Users\\chris\\OneDrive\\Desktop\\Team-134-CSE-6242-Project\\build_nfl_model.py:584: SettingWithCopyWarning: \n",
      "A value is trying to be set on a copy of a slice from a DataFrame\n",
      "\n",
      "See the caveats in the documentation: https://pandas.pydata.org/pandas-docs/stable/user_guide/indexing.html#returning-a-view-versus-a-copy\n",
      "  \n"
     ]
    },
    {
     "name": "stdout",
     "output_type": "stream",
     "text": [
      "No non-numerical columns to convert.\n",
      "MAE: 15.111407628144084\n",
      "MSE: 363.1773134534158\n"
     ]
    }
   ],
   "source": [
    "class_obj.generate_qb_features()\n",
    "class_obj.train_qb_model()\n",
    "\n",
    "y_pred_train = class_obj.qb_model.predict(class_obj.qb_x_train)\n",
    "y_pred_test = class_obj.qb_model.predict(class_obj.qb_x_test)\n",
    "\n",
    "\n",
    "\n",
    "\n",
    "print(\"MAE: \" + str(mean_absolute_error(y_pred_test, class_obj.qb_y_test)))\n",
    "\n",
    "print(\"MSE: \" + str(mean_squared_error(y_pred_test, class_obj.qb_y_test)))"
   ]
  },
  {
   "cell_type": "code",
   "execution_count": null,
   "metadata": {},
   "outputs": [],
   "source": []
  },
  {
   "cell_type": "markdown",
   "metadata": {},
   "source": [
    "# RB_WR"
   ]
  },
  {
   "cell_type": "code",
   "execution_count": 5,
   "metadata": {},
   "outputs": [
    {
     "name": "stderr",
     "output_type": "stream",
     "text": [
      "c:\\Users\\chris\\OneDrive\\Desktop\\Team-134-CSE-6242-Project\\build_nfl_model.py:288: PerformanceWarning: DataFrame is highly fragmented.  This is usually the result of calling `frame.insert` many times, which has poor performance.  Consider joining all columns at once using pd.concat(axis=1) instead. To get a de-fragmented frame, use `newframe = frame.copy()`\n",
      "  self.schedules_df = pd.DataFrame(nfl.import_schedules([2024,2023,2022,2021,2020,2019,2018,2017,2016,2015,2014,2013,2012,2011,2010,2009,2008,2007,2006,2005,2004,2003,2002,2001,2000,1999]))\n",
      "c:\\Users\\chris\\OneDrive\\Desktop\\Team-134-CSE-6242-Project\\build_nfl_model.py:288: SettingWithCopyWarning: \n",
      "A value is trying to be set on a copy of a slice from a DataFrame.\n",
      "Try using .loc[row_indexer,col_indexer] = value instead\n",
      "\n",
      "See the caveats in the documentation: https://pandas.pydata.org/pandas-docs/stable/user_guide/indexing.html#returning-a-view-versus-a-copy\n",
      "  self.schedules_df = pd.DataFrame(nfl.import_schedules([2024,2023,2022,2021,2020,2019,2018,2017,2016,2015,2014,2013,2012,2011,2010,2009,2008,2007,2006,2005,2004,2003,2002,2001,2000,1999]))\n",
      "c:\\Users\\chris\\OneDrive\\Desktop\\Team-134-CSE-6242-Project\\build_nfl_model.py:290: SettingWithCopyWarning: \n",
      "A value is trying to be set on a copy of a slice from a DataFrame\n",
      "\n",
      "See the caveats in the documentation: https://pandas.pydata.org/pandas-docs/stable/user_guide/indexing.html#returning-a-view-versus-a-copy\n",
      "  return self.roster_data,self.pbp_df,self.schedules_df\n",
      "c:\\Users\\chris\\OneDrive\\Desktop\\Team-134-CSE-6242-Project\\build_nfl_model.py:334: SettingWithCopyWarning: \n",
      "A value is trying to be set on a copy of a slice from a DataFrame.\n",
      "Try using .loc[row_indexer,col_indexer] = value instead\n",
      "\n",
      "See the caveats in the documentation: https://pandas.pydata.org/pandas-docs/stable/user_guide/indexing.html#returning-a-view-versus-a-copy\n",
      "  'two_points': 'sum'\n",
      "c:\\Users\\chris\\OneDrive\\Desktop\\Team-134-CSE-6242-Project\\build_nfl_model.py:454: SettingWithCopyWarning: \n",
      "A value is trying to be set on a copy of a slice from a DataFrame\n",
      "\n",
      "See the caveats in the documentation: https://pandas.pydata.org/pandas-docs/stable/user_guide/indexing.html#returning-a-view-versus-a-copy\n",
      "  'rushing_yards': 'sum',# Sum passing yards\n"
     ]
    },
    {
     "name": "stdout",
     "output_type": "stream",
     "text": [
      "No non-numerical columns to convert.\n",
      "MAE: 5.3015471856454415\n",
      "MSE: 55.361212493576595\n"
     ]
    }
   ],
   "source": [
    "class_obj.generate_features_rb_wr()\n",
    "class_obj.train_rb_wr_model()\n",
    "\n",
    "y_pred_train = class_obj.rb_wr_model.predict(class_obj.rb_wr_x_train)\n",
    "y_pred_test = class_obj.rb_wr_model.predict(class_obj.rb_wr_x_test)\n",
    "\n",
    "\n",
    "\n",
    "\n",
    "print(\"MAE: \" + str(mean_absolute_error(y_pred_test, class_obj.rb_wr_y_test)))\n",
    "\n",
    "print(\"MSE: \" + str(mean_squared_error(y_pred_test, class_obj.rb_wr_y_test)))"
   ]
  },
  {
   "cell_type": "code",
   "execution_count": null,
   "metadata": {},
   "outputs": [],
   "source": []
  },
  {
   "cell_type": "markdown",
   "metadata": {},
   "source": []
  }
 ],
 "metadata": {
  "kernelspec": {
   "display_name": "base",
   "language": "python",
   "name": "python3"
  },
  "language_info": {
   "codemirror_mode": {
    "name": "ipython",
    "version": 3
   },
   "file_extension": ".py",
   "mimetype": "text/x-python",
   "name": "python",
   "nbconvert_exporter": "python",
   "pygments_lexer": "ipython3",
   "version": "3.11.5"
  }
 },
 "nbformat": 4,
 "nbformat_minor": 2
}
