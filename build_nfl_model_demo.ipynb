{
 "cells": [
  {
   "cell_type": "code",
   "execution_count": 61,
   "metadata": {},
   "outputs": [],
   "source": [
    "import build_nfl_model as nfl_mod"
   ]
  },
  {
   "cell_type": "code",
   "execution_count": 72,
   "metadata": {},
   "outputs": [
    {
     "data": {
      "text/plain": [
       "<module 'build_nfl_model' from '/Users/carloseduardo/Documents/GitHub/Team-134-CSE-6242-Project/build_nfl_model.py'>"
      ]
     },
     "execution_count": 72,
     "metadata": {},
     "output_type": "execute_result"
    }
   ],
   "source": [
    "from importlib import reload\n",
    "\n",
    "reload(nfl_mod)"
   ]
  },
  {
   "cell_type": "markdown",
   "metadata": {},
   "source": [
    "# Purpose\n",
    "\n",
    "The purpose of this notebook is to demonstrate the use of the build_nfl_model.py module. \n",
    "\n",
    "This will showcase the process step by step and also showcase it using the method that runs the whole process in it's entirety."
   ]
  },
  {
   "cell_type": "markdown",
   "metadata": {},
   "source": [
    "## Kicker Defense"
   ]
  },
  {
   "cell_type": "code",
   "execution_count": 54,
   "metadata": {},
   "outputs": [
    {
     "name": "stdout",
     "output_type": "stream",
     "text": [
      "1999 done.\n",
      "2000 done.\n",
      "2001 done.\n",
      "2002 done.\n",
      "2003 done.\n",
      "2004 done.\n",
      "2005 done.\n",
      "2006 done.\n",
      "2007 done.\n",
      "2008 done.\n",
      "2009 done.\n",
      "2010 done.\n",
      "2011 done.\n",
      "2012 done.\n",
      "2013 done.\n",
      "2014 done.\n",
      "2015 done.\n",
      "2016 done.\n",
      "2017 done.\n",
      "2018 done.\n",
      "2019 done.\n",
      "2020 done.\n",
      "2021 done.\n",
      "2022 done.\n",
      "2023 done.\n",
      "2024 done.\n",
      "Downcasting floats.\n",
      "Swapping 'posteam' and 'defteam' for 68390 kickoff plays...\n",
      "Swap complete.\n",
      "Data processing for 'df_kicker_pbp' completed.\n",
      "Kicker play-by-play data processing completed successfully.\n",
      "DataFrames merged successfully into 'df_combined'.\n"
     ]
    }
   ],
   "source": [
    "kicker_obj = nfl_mod.NFLModel(position='Kicker')"
   ]
  },
  {
   "cell_type": "code",
   "execution_count": 55,
   "metadata": {},
   "outputs": [
    {
     "name": "stdout",
     "output_type": "stream",
     "text": [
      "No non-numerical columns to convert.\n",
      "Training LinearRegression model...\n",
      "LinearRegression model trained successfully.\n",
      "Evaluating LinearRegression model...\n",
      "LinearRegression Evaluation Results - MAE: 3.05, MSE: 16.00, R2: 0.31\n",
      "Training RandomForest model...\n",
      "RandomForest model trained successfully.\n",
      "Evaluating RandomForest model...\n",
      "RandomForest Evaluation Results - MAE: 2.95, MSE: 15.87, R2: 0.31\n",
      "LSTM model built and compiled.\n"
     ]
    },
    {
     "name": "stderr",
     "output_type": "stream",
     "text": [
      "/opt/anaconda3/envs/cse6242-python310/lib/python3.10/site-packages/keras/src/layers/rnn/rnn.py:204: UserWarning: Do not pass an `input_shape`/`input_dim` argument to a layer. When using Sequential models, prefer using an `Input(shape)` object as the first layer in the model instead.\n",
      "  super().__init__(**kwargs)\n"
     ]
    },
    {
     "name": "stdout",
     "output_type": "stream",
     "text": [
      "LSTM training completed.\n",
      "LSTM Test MAE: 2.98\n",
      "\u001b[1m103/103\u001b[0m \u001b[32m━━━━━━━━━━━━━━━━━━━━\u001b[0m\u001b[37m\u001b[0m \u001b[1m0s\u001b[0m 1ms/step\n",
      "Ensemble Test MAE: 2.95\n"
     ]
    }
   ],
   "source": [
    "# Preprocess data\n",
    "kicker_obj.preprocess_data()\n",
    "\n",
    "# Train and evaluate models\n",
    "kicker_obj.train_evaluate_model(model_type='LinearRegression')\n",
    "kicker_obj.train_evaluate_model(model_type='RandomForest')\n",
    "kicker_obj.build_and_train_lstm()\n",
    "kicker_obj.evaluate_lstm()\n",
    "kicker_obj.evaluate_ensemble()"
   ]
  },
  {
   "cell_type": "code",
   "execution_count": null,
   "metadata": {},
   "outputs": [
    {
     "name": "stdout",
     "output_type": "stream",
     "text": [
      "      LinearRegression  RandomForest       LSTM   Ensemble\n",
      "MAE           3.045083      2.950408   2.965711   2.942183\n",
      "MSE          16.004663     15.866019        NaN  15.499931\n",
      "R2            0.307957      0.313952        NaN   0.329782\n",
      "Loss               NaN           NaN  15.569418        NaN\n"
     ]
    }
   ],
   "source": [
    "print(kicker_obj.get_results())"
   ]
  },
  {
   "cell_type": "code",
   "execution_count": 15,
   "metadata": {},
   "outputs": [
    {
     "name": "stderr",
     "output_type": "stream",
     "text": [
      "c:\\Users\\chris\\OneDrive\\Desktop\\Team-134-CSE-6242-Project\\build_nfl_model.py:584: SettingWithCopyWarning: \n",
      "A value is trying to be set on a copy of a slice from a DataFrame\n",
      "\n",
      "See the caveats in the documentation: https://pandas.pydata.org/pandas-docs/stable/user_guide/indexing.html#returning-a-view-versus-a-copy\n",
      "  \n"
     ]
    },
    {
     "name": "stdout",
     "output_type": "stream",
     "text": [
      "No non-numerical columns to convert.\n",
      "MAE: 15.111407628144084\n",
      "MSE: 363.1773134534158\n"
     ]
    }
   ],
   "source": [
    "class_obj.generate_qb_features()\n",
    "class_obj.train_qb_model()\n",
    "\n",
    "y_pred_train = class_obj.qb_model.predict(class_obj.qb_x_train)\n",
    "y_pred_test = class_obj.qb_model.predict(class_obj.qb_x_test)\n",
    "\n",
    "\n",
    "\n",
    "\n",
    "print(\"MAE: \" + str(mean_absolute_error(y_pred_test, class_obj.qb_y_test)))\n",
    "\n",
    "print(\"MSE: \" + str(mean_squared_error(y_pred_test, class_obj.qb_y_test)))"
   ]
  },
  {
   "cell_type": "code",
   "execution_count": null,
   "metadata": {},
   "outputs": [
    {
     "name": "stdout",
     "output_type": "stream",
     "text": [
      "Model saved to random_forest_kicker_model.pkl\n",
      "Model saved to lstm_kicker_model.pkl\n"
     ]
    }
   ],
   "source": [
    "# kicker_obj.save_model(kicker_obj.rf_model, 'random_forest_kicker_model.pkl')\n",
    "# kicker_obj.save_model(kicker_obj.lstm_model, 'lstm_kicker_model.pkl')"
   ]
  },
  {
   "cell_type": "code",
   "execution_count": null,
   "metadata": {},
   "outputs": [
    {
     "name": "stdout",
     "output_type": "stream",
     "text": [
      "Model loaded from random_forest_kicker_model.pkl\n"
     ]
    }
   ],
   "source": [
    "# loaded_model = kicker_obj.load_model('random_forest_kicker_model.pkl')"
   ]
  },
  {
   "cell_type": "markdown",
   "metadata": {},
   "source": [
    "# RB_WR"
   ]
  },
  {
   "cell_type": "code",
   "execution_count": 73,
   "metadata": {},
   "outputs": [
    {
     "name": "stdout",
     "output_type": "stream",
     "text": [
      "1999 done.\n",
      "2000 done.\n",
      "2001 done.\n",
      "2002 done.\n",
      "2003 done.\n",
      "2004 done.\n",
      "2005 done.\n",
      "2006 done.\n",
      "2007 done.\n",
      "2008 done.\n",
      "2009 done.\n",
      "2010 done.\n",
      "2011 done.\n",
      "2012 done.\n",
      "2013 done.\n",
      "2014 done.\n",
      "2015 done.\n",
      "2016 done.\n",
      "2017 done.\n",
      "2018 done.\n",
      "2019 done.\n",
      "2020 done.\n",
      "2021 done.\n",
      "2022 done.\n",
      "2023 done.\n",
      "2024 done.\n",
      "Downcasting floats.\n"
     ]
    },
    {
     "name": "stderr",
     "output_type": "stream",
     "text": [
      "/Users/carloseduardo/Documents/GitHub/Team-134-CSE-6242-Project/build_nfl_model.py:449: SettingWithCopyWarning: \n",
      "A value is trying to be set on a copy of a slice from a DataFrame.\n",
      "Try using .loc[row_indexer,col_indexer] = value instead\n",
      "\n",
      "See the caveats in the documentation: https://pandas.pydata.org/pandas-docs/stable/user_guide/indexing.html#returning-a-view-versus-a-copy\n",
      "  receiver_rusher_stats['two_points'] = np.where(receiver_rusher_stats['two_point_conv_result'] == 'success',1,0)\n",
      "/Users/carloseduardo/Documents/GitHub/Team-134-CSE-6242-Project/build_nfl_model.py:451: SettingWithCopyWarning: \n",
      "A value is trying to be set on a copy of a slice from a DataFrame\n",
      "\n",
      "See the caveats in the documentation: https://pandas.pydata.org/pandas-docs/stable/user_guide/indexing.html#returning-a-view-versus-a-copy\n",
      "  receiver_rusher_stats.rename(columns = {'complete_pass':'reception'},inplace = True)\n",
      "/Users/carloseduardo/Documents/GitHub/Team-134-CSE-6242-Project/build_nfl_model.py:492: SettingWithCopyWarning: \n",
      "A value is trying to be set on a copy of a slice from a DataFrame.\n",
      "Try using .loc[row_indexer,col_indexer] = value instead\n",
      "\n",
      "See the caveats in the documentation: https://pandas.pydata.org/pandas-docs/stable/user_guide/indexing.html#returning-a-view-versus-a-copy\n",
      "  team['team'] = team['team'].replace({'OAK':'LV', 'STL':'LA', 'SD':'LAC','HST':'HOU', 'BLT':'BAL', 'CLV':'CLE','SL':'LA','ARZ':'ARI'})\n",
      "/Users/carloseduardo/Documents/GitHub/Team-134-CSE-6242-Project/build_nfl_model.py:595: SettingWithCopyWarning: \n",
      "A value is trying to be set on a copy of a slice from a DataFrame\n",
      "\n",
      "See the caveats in the documentation: https://pandas.pydata.org/pandas-docs/stable/user_guide/indexing.html#returning-a-view-versus-a-copy\n",
      "  schedules_df_copy.rename(columns = {'gameday':'game_date'}, inplace = True)\n"
     ]
    }
   ],
   "source": [
    "rw_obj = nfl_mod.NFLModel(position='RW')"
   ]
  },
  {
   "cell_type": "code",
   "execution_count": 74,
   "metadata": {},
   "outputs": [
    {
     "name": "stdout",
     "output_type": "stream",
     "text": [
      "No non-numerical columns to convert.\n",
      "Training LinearRegression model...\n",
      "LinearRegression model trained successfully.\n",
      "Evaluating LinearRegression model...\n",
      "LinearRegression Evaluation Results - MAE: 5.27, MSE: 54.57, R2: 0.31\n",
      "Training RandomForest model...\n",
      "RandomForest model trained successfully.\n",
      "Evaluating RandomForest model...\n",
      "RandomForest Evaluation Results - MAE: 5.39, MSE: 56.55, R2: 0.28\n",
      "LSTM model built and compiled.\n"
     ]
    },
    {
     "name": "stderr",
     "output_type": "stream",
     "text": [
      "/opt/anaconda3/envs/cse6242-python310/lib/python3.10/site-packages/keras/src/layers/rnn/rnn.py:204: UserWarning: Do not pass an `input_shape`/`input_dim` argument to a layer. When using Sequential models, prefer using an `Input(shape)` object as the first layer in the model instead.\n",
      "  super().__init__(**kwargs)\n"
     ]
    },
    {
     "name": "stdout",
     "output_type": "stream",
     "text": [
      "LSTM training completed.\n",
      "LSTM Test MAE: 5.19\n",
      "\u001b[1m495/495\u001b[0m \u001b[32m━━━━━━━━━━━━━━━━━━━━\u001b[0m\u001b[37m\u001b[0m \u001b[1m0s\u001b[0m 452us/step\n",
      "Ensemble Test MAE: 5.25\n"
     ]
    }
   ],
   "source": [
    "# Preprocess data\n",
    "rw_obj.preprocess_data()\n",
    "\n",
    "# Train and evaluate models\n",
    "rw_obj.train_evaluate_model(model_type='LinearRegression')\n",
    "rw_obj.train_evaluate_model(model_type='RandomForest')\n",
    "rw_obj.build_and_train_lstm()\n",
    "rw_obj.evaluate_lstm()\n",
    "rw_obj.evaluate_ensemble()"
   ]
  },
  {
   "cell_type": "code",
   "execution_count": 75,
   "metadata": {},
   "outputs": [
    {
     "name": "stdout",
     "output_type": "stream",
     "text": [
      "      LinearRegression  RandomForest       LSTM   Ensemble\n",
      "MAE           5.270718      5.388234   5.188186   5.248058\n",
      "MSE          54.565621     56.548108        NaN  54.455797\n",
      "R2            0.306753      0.281566        NaN   0.308149\n",
      "Loss               NaN           NaN  54.041985        NaN\n"
     ]
    }
   ],
   "source": [
    "print(rw_obj.get_results())"
   ]
  },
  {
   "cell_type": "markdown",
   "metadata": {},
   "source": [
    "# QB"
   ]
  },
  {
   "cell_type": "code",
   "execution_count": 76,
   "metadata": {},
   "outputs": [
    {
     "name": "stdout",
     "output_type": "stream",
     "text": [
      "1999 done.\n",
      "2000 done.\n",
      "2001 done.\n",
      "2002 done.\n",
      "2003 done.\n",
      "2004 done.\n",
      "2005 done.\n",
      "2006 done.\n",
      "2007 done.\n",
      "2008 done.\n",
      "2009 done.\n",
      "2010 done.\n",
      "2011 done.\n",
      "2012 done.\n",
      "2013 done.\n",
      "2014 done.\n",
      "2015 done.\n",
      "2016 done.\n",
      "2017 done.\n",
      "2018 done.\n",
      "2019 done.\n",
      "2020 done.\n",
      "2021 done.\n",
      "2022 done.\n",
      "2023 done.\n",
      "2024 done.\n",
      "Downcasting floats.\n"
     ]
    },
    {
     "name": "stderr",
     "output_type": "stream",
     "text": [
      "/Users/carloseduardo/Documents/GitHub/Team-134-CSE-6242-Project/build_nfl_model.py:711: SettingWithCopyWarning: \n",
      "A value is trying to be set on a copy of a slice from a DataFrame\n",
      "\n",
      "See the caveats in the documentation: https://pandas.pydata.org/pandas-docs/stable/user_guide/indexing.html#returning-a-view-versus-a-copy\n",
      "  schedules_df_copy.rename(columns = {'gameday':'game_date'}, inplace = True)\n"
     ]
    }
   ],
   "source": [
    "qb_obj = nfl_mod.NFLModel(position='QB')"
   ]
  },
  {
   "cell_type": "code",
   "execution_count": 79,
   "metadata": {},
   "outputs": [
    {
     "name": "stdout",
     "output_type": "stream",
     "text": [
      "No non-numerical columns to convert.\n",
      "Training LinearRegression model...\n",
      "LinearRegression model trained successfully.\n",
      "Evaluating LinearRegression model...\n",
      "LinearRegression Evaluation Results - MAE: 15.17, MSE: 373.82, R2: 0.32\n",
      "Training RandomForest model...\n",
      "RandomForest model trained successfully.\n",
      "Evaluating RandomForest model...\n",
      "RandomForest Evaluation Results - MAE: 15.03, MSE: 369.69, R2: 0.33\n",
      "LSTM model built and compiled.\n"
     ]
    },
    {
     "name": "stderr",
     "output_type": "stream",
     "text": [
      "/opt/anaconda3/envs/cse6242-python310/lib/python3.10/site-packages/keras/src/layers/rnn/rnn.py:204: UserWarning: Do not pass an `input_shape`/`input_dim` argument to a layer. When using Sequential models, prefer using an `Input(shape)` object as the first layer in the model instead.\n",
      "  super().__init__(**kwargs)\n"
     ]
    },
    {
     "name": "stdout",
     "output_type": "stream",
     "text": [
      "LSTM training completed.\n",
      "LSTM Test MAE: 14.83\n",
      "\u001b[1m65/65\u001b[0m \u001b[32m━━━━━━━━━━━━━━━━━━━━\u001b[0m\u001b[37m\u001b[0m \u001b[1m0s\u001b[0m 2ms/step\n",
      "Ensemble Test MAE: 14.80\n"
     ]
    }
   ],
   "source": [
    "# Preprocess data\n",
    "qb_obj.preprocess_data()\n",
    "\n",
    "# Train and evaluate models\n",
    "qb_obj.train_evaluate_model(model_type='LinearRegression')\n",
    "qb_obj.train_evaluate_model(model_type='RandomForest')\n",
    "qb_obj.build_and_train_lstm()\n",
    "qb_obj.evaluate_lstm()\n",
    "qb_obj.evaluate_ensemble()"
   ]
  },
  {
   "cell_type": "code",
   "execution_count": 81,
   "metadata": {},
   "outputs": [
    {
     "name": "stdout",
     "output_type": "stream",
     "text": [
      "      LinearRegression  RandomForest        LSTM    Ensemble\n",
      "MAE          15.173099     15.029875   14.829253   14.804777\n",
      "MSE         373.824252    369.692863         NaN  360.217365\n",
      "R2            0.322431      0.329919         NaN    0.347094\n",
      "Loss               NaN           NaN  366.052551         NaN\n"
     ]
    }
   ],
   "source": [
    "print(qb_obj.get_results())"
   ]
  },
  {
   "cell_type": "markdown",
   "metadata": {},
   "source": []
  }
 ],
 "metadata": {
  "kernelspec": {
   "display_name": "cse6242-python310",
   "language": "python",
   "name": "python3"
  },
  "language_info": {
   "codemirror_mode": {
    "name": "ipython",
    "version": 3
   },
   "file_extension": ".py",
   "mimetype": "text/x-python",
   "name": "python",
   "nbconvert_exporter": "python",
   "pygments_lexer": "ipython3",
   "version": "3.10.14"
  }
 },
 "nbformat": 4,
 "nbformat_minor": 2
}
