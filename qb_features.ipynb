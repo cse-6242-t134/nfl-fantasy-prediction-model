{
 "cells": [
  {
   "cell_type": "code",
   "execution_count": 1,
   "metadata": {},
   "outputs": [
    {
     "name": "stderr",
     "output_type": "stream",
     "text": [
      "c:\\Users\\chris\\anaconda3\\Lib\\site-packages\\pandas\\core\\arrays\\masked.py:60: UserWarning: Pandas requires version '1.3.6' or newer of 'bottleneck' (version '1.3.5' currently installed).\n",
      "  from pandas.core import (\n"
     ]
    }
   ],
   "source": [
    "import warnings \n",
    "import pandas as pd\n",
    "import numpy as np\n",
    "import nfl_data_py as nfl\n",
    "import datetime as dt\n",
    "import copy\n",
    "import matplotlib.pyplot as plt\n",
    "import seaborn as sns\n",
    "pd.set_option('display.max_columns', None)\n",
    "# Suppress FutureWarnings\n",
    "warnings.filterwarnings(\"ignore\", category=FutureWarning)\n"
   ]
  },
  {
   "cell_type": "markdown",
   "metadata": {},
   "source": [
    "# Background/Ideas\n",
    "\n",
    "- Features will be based off seasonal,weekly, and career based values\n",
    "- Idea is that certain players which can be differentiated by career based values paired with weekly performance and or seasonal (team strength proxy) can be paired to build something relatively predictive.\n",
    "- Interactivity can be dependent on clicking and choosing assortment of players and identifying/projecting current projections.\n",
    "- Data seems to get updated weekly so these predictions would change over time as well."
   ]
  },
  {
   "cell_type": "markdown",
   "metadata": {},
   "source": [
    "# Data\n",
    "\n",
    "This section focuses on pulling the data and prepping/aggregating the dependent variable. (Fantasy Points)"
   ]
  },
  {
   "cell_type": "code",
   "execution_count": 2,
   "metadata": {},
   "outputs": [
    {
     "name": "stdout",
     "output_type": "stream",
     "text": [
      "2024 done.\n",
      "2023 done.\n",
      "2022 done.\n",
      "2021 done.\n",
      "2020 done.\n",
      "2019 done.\n",
      "2018 done.\n",
      "2017 done.\n",
      "2016 done.\n",
      "2015 done.\n",
      "2014 done.\n",
      "2013 done.\n",
      "2012 done.\n",
      "2011 done.\n",
      "2010 done.\n",
      "2009 done.\n",
      "2008 done.\n",
      "2007 done.\n",
      "2006 done.\n",
      "2005 done.\n",
      "2004 done.\n",
      "2003 done.\n",
      "2002 done.\n",
      "2001 done.\n",
      "2000 done.\n",
      "1999 done.\n",
      "Downcasting floats.\n",
      "Downcasting floats.\n"
     ]
    }
   ],
   "source": [
    "roster_data = nfl.import_seasonal_rosters([2024,2023,2022,2021,2020,2019,2018,2017,2016,2015,2014,2013,2012,2011,2010,2009,2008,2007,2006,2005,2004,2003,2002,2001,2000,1999])\n",
    "pbp_df = pd.DataFrame(nfl.import_pbp_data([2024,2023,2022,2021,2020,2019,2018,2017,2016,2015,2014,2013,2012,2011,2010,2009,2008,2007,2006,2005,2004,2003,2002,2001,2000,1999]))\n",
    "weekly_df = pd.DataFrame(nfl.import_weekly_data([2024,2023,2022,2021,2020,2019,2018,2017,2016,2015,2014,2013,2012,2011,2010,2009,2008,2007,2006,2005,2004,2003,2002,2001,2000,1999]))\n",
    "# injuries_df = pd.DataFrame(nfl.import_injuries([2024,2023,2022,2021,2020,2019,2018,2017,2016,2015,2014,2013,2012,2011,2010,2009,2008,2007,2006,2005,2004,2003,2002,2001,2000]))\n",
    "schedules_df = pd.DataFrame(nfl.import_schedules([2024,2023,2022,2021,2020,2019,2018,2017,2016,2015,2014,2013,2012,2011,2010,2009,2008,2007,2006,2005,2004,2003,2002,2001,2000,1999]))"
   ]
  },
  {
   "cell_type": "markdown",
   "metadata": {},
   "source": [
    "# Basic Player Related Stats "
   ]
  },
  {
   "cell_type": "markdown",
   "metadata": {},
   "source": [
    "**Game by Game**"
   ]
  },
  {
   "cell_type": "code",
   "execution_count": 3,
   "metadata": {},
   "outputs": [],
   "source": [
    "## Basic PBP Passing Stats\n",
    "\n",
    "def get_opposing_team(df):\n",
    "    if df['home_team'] == df['team']:\n",
    "        val = df['away_team']\n",
    "    elif df['away_team'] == df['team']:\n",
    "        val = df['home_team']\n",
    "    else:\n",
    "        val = None\n",
    "\n",
    "    return val\n",
    "\n",
    "passing_stats = pbp_df[~pbp_df['passer_player_id'].isna()].copy()\n",
    "\n",
    "\n",
    "passing_stats['two_points'] = np.where(passing_stats['two_point_conv_result'] == 'success',1,0)\n",
    "\n",
    "\n",
    "passing_stats = passing_stats.groupby(['game_id', 'game_date','season', 'week', 'div_game', 'home_team', 'away_team','posteam','defteam', 'weather', 'location', 'stadium',  'spread_line', 'total_line', 'roof', 'surface', 'temp', 'wind', 'home_coach', 'away_coach', 'passer_player_id', 'passer_player_name']).agg({\n",
    "            'passing_yards': 'sum',\n",
    "            'air_yards': 'sum',\n",
    "            'pass_touchdown': 'sum', \n",
    "            'pass_attempt': 'sum',\n",
    "            'complete_pass': 'sum',\n",
    "            'interception': 'sum', #the passing stats are duplicated for receivers\n",
    "            'rush_attempt': 'sum',\n",
    "            'rushing_yards': 'sum',# Sum passing yards\n",
    "            'rush_touchdown': 'sum',\n",
    "            'lateral_rush': 'sum',\n",
    "            'receiving_yards': 'sum',\n",
    "            'yards_after_catch':'sum',\n",
    "            'touchdown':'sum',\n",
    "            'fumble': 'sum',\n",
    "            'two_points': 'sum'\n",
    "}).reset_index()\n",
    "\n",
    "game_score_info = schedules_df[['season','home_score','away_score','game_id']].copy()\n",
    "\n",
    "\n",
    "\n",
    "\n",
    "passing_stats = passing_stats.merge(game_score_info, on = ['game_id','season'], how = 'inner')\n",
    "\n",
    "passing_stats.rename(columns = {'defteam':'opponent_team', 'passer_player_name':'player_name', 'passer_player_id':'player_id'} , inplace = True )\n",
    "\n",
    "## Aggregate average score to opposition \n",
    "\n",
    "# passing_stats['opponent_team'] = passing_stats.apply(get_opposing_team,axis = 1)\n",
    "\n"
   ]
  },
  {
   "cell_type": "markdown",
   "metadata": {},
   "source": [
    "# Creating Fantasy Points Column\n",
    "\n",
    "\n",
    "Offensive Players:\n",
    "\n",
    "- Passing Yards: 1 point per 25 yards\n",
    "- Passing Touchdowns: 4 points\n",
    "- Passing Interceptions: -2 points\n",
    "- Rushing Yards: 1 point per 10 yards\n",
    "- Rushing Touchdowns: 6 points\n",
    "- Receptions: 1 points (only if using PPR scoring)\n",
    "- Receiving Yards: 1 point per 10 yards\n",
    "- Receiving Touchdowns: 6 points\n",
    "- 2-Point Conversions: 2 points\n",
    "- Fumbles Lost: -2 points\n",
    "- Fumble Recovered for a Touchdown: 6 points"
   ]
  },
  {
   "cell_type": "code",
   "execution_count": 4,
   "metadata": {},
   "outputs": [],
   "source": [
    "passing_stats['fantasy_points'] = ((passing_stats['passing_yards']/25 )\n",
    "                                         + (passing_stats['pass_touchdown'] * 4) + \n",
    "                                         (passing_stats['interception'] * -2) +\n",
    "                                         (passing_stats['touchdown'] * 6) +\n",
    "                                         (passing_stats['receiving_yards'] * .1) +\n",
    "                                         (passing_stats['fumble'] * -2) +\n",
    "                                         (passing_stats['two_points'] * 2))"
   ]
  },
  {
   "cell_type": "markdown",
   "metadata": {},
   "source": [
    "## Dependent Variable (Fantasy Points)"
   ]
  },
  {
   "cell_type": "markdown",
   "metadata": {},
   "source": [
    "- Passing yards: 1 point for every 20–25 passing yards, or 0.04–0.05 points per passing yard\n",
    "- Passing touchdowns: 4 points\n",
    "- Rushing yards: 1 point for every 10 rushing yards\n",
    "- Rushing touchdowns: 6 points \n",
    "- Other points that can be awarded include:\n",
    "- Interceptions or fumbles lost -2 points\n",
    "- Extra point: 1 point\n",
    "- Field goal from 0–39 yards: 3 points\n",
    "- Field goal from 40–49 yards: 4 points"
   ]
  },
  {
   "cell_type": "markdown",
   "metadata": {},
   "source": [
    "# Prior Points"
   ]
  },
  {
   "cell_type": "code",
   "execution_count": 5,
   "metadata": {},
   "outputs": [],
   "source": [
    "calculating_prior_points = passing_stats[['player_name','season','fantasy_points']].copy()\n",
    "\n",
    "calculating_prior_points['prior_ssn_avg_fp'] = calculating_prior_points.groupby(['player_name','season'])['fantasy_points'].transform('mean')\n",
    "\n",
    "calculating_prior_points = calculating_prior_points.drop_duplicates()\n",
    "\n",
    "\n",
    "calculating_prior_points.rename(columns = {'season':'actual_season'}, inplace = True)\n",
    "\n",
    "calculating_prior_points['season'] = calculating_prior_points['actual_season'] + 1\n",
    "\n",
    "passing_stats = passing_stats.merge(calculating_prior_points[['player_name','season','prior_ssn_avg_fp']], how = 'left', on = ['player_name','season'])\n",
    "\n",
    "passing_stats = passing_stats.drop_duplicates()\n",
    "\n"
   ]
  },
  {
   "cell_type": "markdown",
   "metadata": {},
   "source": [
    "# External Game Factor Stats"
   ]
  },
  {
   "cell_type": "code",
   "execution_count": 6,
   "metadata": {},
   "outputs": [],
   "source": [
    "## Home Away Flag \n",
    "\n",
    "\n",
    "\n",
    "passing_stats['home_flag'] = np.where(passing_stats['opponent_team'] == passing_stats['home_team'], 0,1)\n",
    "# passing_stats['surface'] = passing_stats['surface'].str.strip()\n",
    "# passing_stats = passing_stats.join(pd.get_dummies(data = passing_stats['surface'], prefix = 'flag'))\n",
    "\n",
    "\n",
    "# passing_stats = passing_stats.join(pd.get_dummies(data = passing_stats['surface'], prefix = 'flag'))\n",
    "\n",
    "\n",
    "\n",
    "# ## Interaction Vars with Wind and Temp on scorable attempts\n",
    "\n",
    "\n",
    "# passing_stats['wind_interaction'] = passing_stats['wind'] * passing_stats['scorable_snaps']\n",
    "# passing_stats['wind_interaction'] = passing_stats['wind_interaction'].fillna(0)\n",
    "\n",
    "# passing_stats['temp_interaction'] = passing_stats['temp'] * passing_stats['scorable_snaps']\n",
    "# passing_stats['temp_interaction'] = passing_stats['temp_interaction'].fillna(0)\n",
    "\n",
    "\n",
    "\n",
    "# ## Stadium "
   ]
  },
  {
   "cell_type": "code",
   "execution_count": null,
   "metadata": {},
   "outputs": [],
   "source": []
  },
  {
   "cell_type": "markdown",
   "metadata": {},
   "source": [
    "# Last 5"
   ]
  },
  {
   "cell_type": "code",
   "execution_count": 7,
   "metadata": {},
   "outputs": [],
   "source": [
    "df_game_level = passing_stats.groupby(['game_id', 'game_date', 'week', 'season', 'posteam', 'opponent_team', 'player_name', 'player_id']).agg({\n",
    "    # Game level\n",
    "    'home_team': 'first',\n",
    "    'away_team': 'first',\n",
    "    # Play level\n",
    "    'fantasy_points': 'sum',\n",
    "    'passing_yards': 'sum',\n",
    "    'air_yards': 'sum',\n",
    "    'pass_touchdown': 'sum', \n",
    "    'pass_attempt': 'sum',\n",
    "    'complete_pass': 'sum',\n",
    "    'interception': 'sum',\n",
    "    'rush_attempt': 'sum',\n",
    "    'rushing_yards': 'sum',# Sum passing yards\n",
    "    'rush_touchdown': 'sum',\n",
    "    'lateral_rush': 'sum',\n",
    "    'receiving_yards': 'sum',\n",
    "    'yards_after_catch': 'sum',\n",
    "    'touchdown':'sum',\n",
    "    'fumble': 'sum',\n",
    "    'two_points': 'sum'\n",
    "})"
   ]
  },
  {
   "cell_type": "code",
   "execution_count": 8,
   "metadata": {},
   "outputs": [],
   "source": [
    "def calc_agg_stats(group, fields, career=True):\n",
    "    # Create a copy to avoid modifying the original\n",
    "    # df = pd.DataFrame({'game_date': group['game_date']}, index=group.index)\n",
    "    df = pd.DataFrame(index=group.index)\n",
    "    \n",
    "    # Sort chronologically\n",
    "    group_sorted = group.sort_values('game_date')\n",
    "\n",
    "    # Calculate the number of unique games for career, season, and prior season\n",
    "    if career:\n",
    "        df['n_games_career'] = range(len(group_sorted))\n",
    "\n",
    "    df['n_games_season'] = group_sorted.groupby(\n",
    "        group_sorted.index.get_level_values('season')\n",
    "    ).cumcount()\n",
    "\n",
    "    # df['n_games_prior_season'] = group_sorted.groupby(\n",
    "    #     group_sorted.index.get_level_values('season')\n",
    "    # ).transform('size').shift()\n",
    "\n",
    "\n",
    "\n",
    "    # Calculate aggregate stats\n",
    "    for field in fields:\n",
    "        if career:\n",
    "            # Career stats\n",
    "            df[f'{field}_mean_career'] = group_sorted[field].transform(lambda x: x.expanding().mean().shift())\n",
    "            df[f'{field}_total_career'] = group_sorted[field].transform(lambda x: x.expanding().sum().shift())\n",
    "        \n",
    "        # Season stats\n",
    "        df[f'{field}_mean_season'] = group_sorted.groupby([group_sorted.index.get_level_values('season')])[field].transform(lambda x: x.expanding().mean().shift())\n",
    "        df[f'{field}_total_season'] = group_sorted.groupby([group_sorted.index.get_level_values('season')])[field].transform(lambda x: x.expanding().sum().shift())\n",
    "\n",
    "        # # Prior season stats\n",
    "        # df[f'{field}_mean_prior_season'] = group_sorted.groupby([group_sorted.index.get_level_values('season') - 1])[field].transform('mean')\n",
    "        \n",
    "        # Last 5 games\n",
    "        df[f'{field}_mean_last5'] = group_sorted[field].transform(lambda x: x.rolling(window=5, min_periods=1).mean().shift())\n",
    "        df[f'{field}_total_last5'] = group_sorted[field].transform(lambda x: x.rolling(window=5, min_periods=1).sum().shift())\n",
    "        # Last Game\n",
    "        df[f'{field}_last'] = group_sorted[field].shift()\n",
    "    return df"
   ]
  },
  {
   "cell_type": "code",
   "execution_count": 9,
   "metadata": {},
   "outputs": [],
   "source": [
    "fields = ['fantasy_points','pass_attempt','interception','rush_attempt','rush_touchdown','complete_pass','rushing_yards','touchdown','receiving_yards','fumble','passing_yards','pass_touchdown','two_points']\n",
    "\n",
    "\n",
    "# Apply the function\n",
    "df_game_level = df_game_level.groupby(['player_name', 'player_id']).apply(calc_agg_stats, fields=fields)\n"
   ]
  },
  {
   "cell_type": "code",
   "execution_count": 10,
   "metadata": {},
   "outputs": [],
   "source": [
    "df_game_level = df_game_level.reset_index(0).reset_index(0).drop(columns = ['player_name','player_id']).reset_index()"
   ]
  },
  {
   "cell_type": "code",
   "execution_count": null,
   "metadata": {},
   "outputs": [],
   "source": []
  },
  {
   "cell_type": "markdown",
   "metadata": {},
   "source": [
    "# Opponent Last Scored"
   ]
  },
  {
   "cell_type": "code",
   "execution_count": 11,
   "metadata": {},
   "outputs": [
    {
     "name": "stderr",
     "output_type": "stream",
     "text": [
      "C:\\Users\\chris\\AppData\\Local\\Temp\\ipykernel_12996\\3325812252.py:2: SettingWithCopyWarning: \n",
      "A value is trying to be set on a copy of a slice from a DataFrame\n",
      "\n",
      "See the caveats in the documentation: https://pandas.pydata.org/pandas-docs/stable/user_guide/indexing.html#returning-a-view-versus-a-copy\n",
      "  schedules_df_copy.rename(columns = {'gameday':'game_date'}, inplace = True)\n"
     ]
    }
   ],
   "source": [
    "schedules_df_copy = schedules_df[schedules_df['game_id'].isin(schedules_df['game_id'].unique()) & (schedules_df['gameday'] >= '2001-09-09')]\n",
    "schedules_df_copy.rename(columns = {'gameday':'game_date'}, inplace = True)\n",
    "\n",
    "home_teams = schedules_df_copy[['game_id', 'game_date','season','home_team','away_score','week']].copy()\n",
    "\n",
    "away_teams = schedules_df_copy[['game_id', 'game_date','season','away_team','home_score','week']].copy()\n",
    "\n",
    "home_teams.rename(columns = {'home_team':'team','away_score':'points_allowed'}, inplace = True)\n",
    "away_teams.rename(columns = {'away_team':'team','home_score':'points_allowed'}, inplace = True)\n",
    "\n",
    "points_allowed_df = pd.concat([home_teams,away_teams])\n",
    "\n",
    "points_allowed_df = points_allowed_df.groupby(['game_id', 'game_date','season','week','team']).agg({'points_allowed':'sum'})\n",
    "\n",
    "group_sorted = points_allowed_df.sort_values('week')\n",
    "\n",
    "pa_df = group_sorted.groupby(['team']).apply(calc_agg_stats, fields=['points_allowed']).reset_index(0).drop(columns = 'team').reset_index()[['game_id','game_date','season','week','team','points_allowed_mean_season','points_allowed_mean_last5']]\n",
    "\n",
    "\n",
    "pa_df.rename(columns = {'team':'opponent_team'}, inplace = True)"
   ]
  },
  {
   "cell_type": "code",
   "execution_count": 12,
   "metadata": {},
   "outputs": [],
   "source": [
    "\n",
    "passing_stats = passing_stats.merge(df_game_level, how = 'inner' ,on = ['game_id','game_date','week','season','posteam','opponent_team','player_name','player_id'])\n",
    "# rusher_receiver_features['opponent_team'] = np.where(rusher_receiver_features['team'] == rusher_receiver_features['home_team'],rusher_receiver_features['away_team'],rusher_receiver_features['home_team'])\n",
    "passing_stats = passing_stats.merge(pa_df , how = 'inner',on = ['game_date','season','week','opponent_team','game_id'])\n",
    "\n",
    "\n",
    "passing_stats = passing_stats.fillna(0)\n",
    "\n",
    "\n",
    "df_combined = passing_stats.copy()"
   ]
  },
  {
   "cell_type": "markdown",
   "metadata": {},
   "source": [
    "# Training Model"
   ]
  },
  {
   "cell_type": "code",
   "execution_count": 13,
   "metadata": {},
   "outputs": [],
   "source": [
    "import nfl_model as NFLModel"
   ]
  },
  {
   "cell_type": "code",
   "execution_count": 14,
   "metadata": {},
   "outputs": [],
   "source": [
    "x_vars = ['div_game','wind','prior_ssn_avg_fp',\n",
    " 'home_flag',\n",
    " 'n_games_career',\n",
    " 'n_games_season',\n",
    " 'fantasy_points_mean_career',\n",
    " 'fantasy_points_total_career',\n",
    " 'fantasy_points_mean_season',\n",
    " 'fantasy_points_total_season',\n",
    " 'fantasy_points_mean_last5',\n",
    " 'fantasy_points_total_last5',\n",
    " 'fantasy_points_last',\n",
    " 'pass_attempt_mean_career',\n",
    " 'pass_attempt_total_career',\n",
    " 'pass_attempt_mean_season',\n",
    " 'pass_attempt_total_season',\n",
    " 'pass_attempt_mean_last5',\n",
    " 'pass_attempt_total_last5',\n",
    " 'pass_attempt_last',\n",
    " 'interception_mean_career',\n",
    " 'interception_total_career',\n",
    " 'interception_mean_season',\n",
    " 'interception_total_season',\n",
    " 'interception_mean_last5',\n",
    " 'interception_total_last5',\n",
    " 'interception_last',\n",
    " 'rush_attempt_mean_career',\n",
    " 'rush_attempt_total_career',\n",
    " 'rush_attempt_mean_season',\n",
    " 'rush_attempt_total_season',\n",
    " 'rush_attempt_mean_last5',\n",
    " 'rush_attempt_total_last5',\n",
    " 'rush_attempt_last',\n",
    " 'rush_touchdown_mean_career',\n",
    " 'rush_touchdown_total_career',\n",
    " 'rush_touchdown_mean_season',\n",
    " 'rush_touchdown_total_season',\n",
    " 'rush_touchdown_mean_last5',\n",
    " 'rush_touchdown_total_last5',\n",
    " 'rush_touchdown_last',\n",
    " 'complete_pass_mean_career',\n",
    " 'complete_pass_total_career',\n",
    " 'complete_pass_mean_season',\n",
    " 'complete_pass_total_season',\n",
    " 'complete_pass_mean_last5',\n",
    " 'complete_pass_total_last5',\n",
    " 'complete_pass_last',\n",
    " 'rushing_yards_mean_career',\n",
    " 'rushing_yards_total_career',\n",
    " 'rushing_yards_mean_season',\n",
    " 'rushing_yards_total_season',\n",
    " 'rushing_yards_mean_last5',\n",
    " 'rushing_yards_total_last5',\n",
    " 'rushing_yards_last',\n",
    " 'touchdown_mean_career',\n",
    " 'touchdown_total_career',\n",
    " 'touchdown_mean_season',\n",
    " 'touchdown_total_season',\n",
    " 'touchdown_mean_last5',\n",
    " 'touchdown_total_last5',\n",
    " 'touchdown_last',\n",
    " 'receiving_yards_mean_career',\n",
    " 'receiving_yards_total_career',\n",
    " 'receiving_yards_mean_season',\n",
    " 'receiving_yards_total_season',\n",
    " 'receiving_yards_mean_last5',\n",
    " 'receiving_yards_total_last5',\n",
    " 'receiving_yards_last',\n",
    " 'fumble_mean_career',\n",
    " 'fumble_total_career',\n",
    " 'fumble_mean_season',\n",
    " 'fumble_total_season',\n",
    " 'fumble_mean_last5',\n",
    " 'fumble_total_last5',\n",
    " 'fumble_last',\n",
    " 'passing_yards_mean_career',\n",
    " 'passing_yards_total_career',\n",
    " 'passing_yards_mean_season',\n",
    " 'passing_yards_total_season',\n",
    " 'passing_yards_mean_last5',\n",
    " 'passing_yards_total_last5',\n",
    " 'passing_yards_last',\n",
    " 'pass_touchdown_mean_career',\n",
    " 'pass_touchdown_total_career',\n",
    " 'pass_touchdown_mean_season',\n",
    " 'pass_touchdown_total_season',\n",
    " 'pass_touchdown_mean_last5',\n",
    " 'pass_touchdown_total_last5',\n",
    " 'pass_touchdown_last',\n",
    " 'two_points_mean_career',\n",
    " 'two_points_total_career',\n",
    " 'two_points_mean_season',\n",
    " 'two_points_total_season',\n",
    " 'two_points_mean_last5',\n",
    " 'two_points_total_last5',\n",
    " 'two_points_last',\n",
    " 'points_allowed_mean_season',\n",
    " 'points_allowed_mean_last5']"
   ]
  },
  {
   "cell_type": "code",
   "execution_count": 15,
   "metadata": {},
   "outputs": [],
   "source": [
    "def get_dummy_variables(df, drop_first=True, dummy_na=False):\n",
    "    \"\"\"\n",
    "    Converts non-numerical columns in a DataFrame to dummy variables.\n",
    "\n",
    "    Parameters:\n",
    "    - df: pandas DataFrame\n",
    "        The input DataFrame containing the data.\n",
    "    - drop_first: bool, default=False\n",
    "        Whether to drop the first level of categorical variables to avoid the dummy variable trap.\n",
    "    - dummy_na: bool, default=False\n",
    "        Add a column to indicate NaNs, if False NaNs are ignored.\n",
    "\n",
    "    Returns:\n",
    "    - df_dummies: pandas DataFrame\n",
    "        The DataFrame with non-numeric columns converted to dummy variables.\n",
    "    \"\"\"\n",
    "    # Identify non-numeric columns\n",
    "    non_numeric_cols = df.select_dtypes(exclude=['number', 'bool']).columns.tolist()\n",
    "\n",
    "    # If there are no non-numeric columns, return the original DataFrame\n",
    "    if not non_numeric_cols:\n",
    "        print(\"No non-numerical columns to convert.\")\n",
    "        return df.copy()\n",
    "\n",
    "    # Convert categorical variables to dummy variables\n",
    "    df_dummies = pd.get_dummies(df, columns=non_numeric_cols, drop_first=drop_first, dummy_na=dummy_na)\n",
    "\n",
    "    return df_dummies"
   ]
  },
  {
   "cell_type": "code",
   "execution_count": 16,
   "metadata": {},
   "outputs": [
    {
     "name": "stdout",
     "output_type": "stream",
     "text": [
      "No non-numerical columns to convert.\n"
     ]
    }
   ],
   "source": [
    "columns_to_include = df_combined.columns.difference(['game_id', 'game_date', 'player_name'])\n",
    "final_df = df_combined[x_vars + ['fantasy_points']].copy()\n",
    "# final_df['player_id'] = final_df['player_id'].astype('category')\n",
    "final_df = get_dummy_variables(final_df)\n",
    "\n",
    "y_var = 'fantasy_points'"
   ]
  },
  {
   "cell_type": "code",
   "execution_count": 22,
   "metadata": {},
   "outputs": [],
   "source": [
    "from nfl_model import NFLModel\n"
   ]
  },
  {
   "cell_type": "code",
   "execution_count": 24,
   "metadata": {},
   "outputs": [
    {
     "name": "stdout",
     "output_type": "stream",
     "text": [
      "Data preprocessing completed.\n",
      "Lasso selected features: ['div_game', 'wind', 'prior_ssn_avg_fp', 'home_flag', 'fantasy_points_mean_season', 'interception_total_season', 'interception_total_last5', 'interception_last', 'rush_attempt_total_season', 'complete_pass_mean_career', 'complete_pass_mean_season', 'complete_pass_last', 'rushing_yards_total_career', 'rushing_yards_mean_last5', 'receiving_yards_mean_career', 'receiving_yards_mean_season', 'receiving_yards_mean_last5', 'fumble_total_season', 'fumble_total_last5', 'pass_touchdown_mean_career', 'pass_touchdown_total_career', 'pass_touchdown_total_last5', 'pass_touchdown_last', 'two_points_mean_career', 'two_points_total_season', 'two_points_total_last5', 'points_allowed_mean_season', 'points_allowed_mean_last5']\n",
      "Elastic Net selected features: ['div_game', 'wind', 'prior_ssn_avg_fp', 'home_flag', 'n_games_season', 'fantasy_points_mean_career', 'fantasy_points_total_career', 'fantasy_points_mean_season', 'fantasy_points_mean_last5', 'fantasy_points_total_last5', 'pass_attempt_mean_season', 'pass_attempt_total_season', 'pass_attempt_total_last5', 'pass_attempt_last', 'interception_mean_career', 'interception_total_career', 'interception_total_season', 'interception_total_last5', 'interception_last', 'rush_attempt_total_season', 'complete_pass_mean_career', 'complete_pass_mean_season', 'complete_pass_mean_last5', 'complete_pass_last', 'rushing_yards_total_career', 'rushing_yards_mean_season', 'rushing_yards_mean_last5', 'rushing_yards_total_last5', 'touchdown_total_career', 'touchdown_last', 'receiving_yards_mean_career', 'receiving_yards_mean_season', 'receiving_yards_mean_last5', 'receiving_yards_total_last5', 'receiving_yards_last', 'fumble_mean_career', 'fumble_total_career', 'fumble_mean_season', 'fumble_total_season', 'fumble_total_last5', 'passing_yards_mean_career', 'passing_yards_mean_season', 'passing_yards_mean_last5', 'passing_yards_total_last5', 'passing_yards_last', 'pass_touchdown_mean_career', 'pass_touchdown_total_career', 'pass_touchdown_mean_season', 'pass_touchdown_total_last5', 'pass_touchdown_last', 'two_points_mean_career', 'two_points_mean_season', 'two_points_total_season', 'two_points_total_last5', 'two_points_last', 'points_allowed_mean_season', 'points_allowed_mean_last5']\n",
      "Model evaluation completed.\n",
      "       Method              Model        MAE         MSE        R2\n",
      "0       Lasso  Linear Regression  15.111408  363.177313  0.330951\n",
      "1       Lasso      Random Forest  14.864738  356.425305  0.343389\n",
      "2  ElasticNet  Linear Regression  15.072010  363.522277  0.330315\n",
      "3  ElasticNet      Random Forest  14.849580  356.883125  0.342546\n"
     ]
    }
   ],
   "source": [
    "# Initialize the model\n",
    "model = NFLModel(data=final_df, target_variable=y_var)\n",
    "\n",
    "# Preprocess data\n",
    "model.preprocess_data()\n",
    "\n",
    "# Perform feature selection\n",
    "model.feature_selection()\n",
    "\n",
    "# Evaluate models\n",
    "model.evaluate_models()\n",
    "\n",
    "# Get and print the results\n",
    "results_df = model.get_results()\n",
    "print(results_df)"
   ]
  },
  {
   "cell_type": "code",
   "execution_count": 25,
   "metadata": {},
   "outputs": [
    {
     "data": {
      "text/plain": [
       "['div_game',\n",
       " 'wind',\n",
       " 'prior_ssn_avg_fp',\n",
       " 'home_flag',\n",
       " 'fantasy_points_mean_season',\n",
       " 'interception_total_season',\n",
       " 'interception_total_last5',\n",
       " 'interception_last',\n",
       " 'rush_attempt_total_season',\n",
       " 'complete_pass_mean_career',\n",
       " 'complete_pass_mean_season',\n",
       " 'complete_pass_last',\n",
       " 'rushing_yards_total_career',\n",
       " 'rushing_yards_mean_last5',\n",
       " 'receiving_yards_mean_career',\n",
       " 'receiving_yards_mean_season',\n",
       " 'receiving_yards_mean_last5',\n",
       " 'fumble_total_season',\n",
       " 'fumble_total_last5',\n",
       " 'pass_touchdown_mean_career',\n",
       " 'pass_touchdown_total_career',\n",
       " 'pass_touchdown_total_last5',\n",
       " 'pass_touchdown_last',\n",
       " 'two_points_mean_career',\n",
       " 'two_points_total_season',\n",
       " 'two_points_total_last5',\n",
       " 'points_allowed_mean_season',\n",
       " 'points_allowed_mean_last5']"
      ]
     },
     "execution_count": 25,
     "metadata": {},
     "output_type": "execute_result"
    }
   ],
   "source": [
    "model.lasso_features"
   ]
  }
 ],
 "metadata": {
  "kernelspec": {
   "display_name": "base",
   "language": "python",
   "name": "python3"
  },
  "language_info": {
   "codemirror_mode": {
    "name": "ipython",
    "version": 3
   },
   "file_extension": ".py",
   "mimetype": "text/x-python",
   "name": "python",
   "nbconvert_exporter": "python",
   "pygments_lexer": "ipython3",
   "version": "3.11.5"
  }
 },
 "nbformat": 4,
 "nbformat_minor": 2
}
