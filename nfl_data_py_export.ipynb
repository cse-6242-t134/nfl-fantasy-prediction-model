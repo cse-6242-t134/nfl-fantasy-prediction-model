{
 "cells": [
  {
   "cell_type": "code",
   "execution_count": null,
   "id": "9429e884",
   "metadata": {},
   "outputs": [],
   "source": []
  },
  {
   "cell_type": "code",
   "execution_count": null,
   "id": "40800116",
   "metadata": {},
   "outputs": [],
   "source": [
    "#Import necessary libraries\n",
    "import pandas as pd\n",
    "import numpy as np\n",
    "import nfl_data_py as nfl"
   ]
  },
  {
   "cell_type": "code",
   "execution_count": null,
   "id": "d53ada69",
   "metadata": {},
   "outputs": [],
   "source": [
    "#Download every available years worth of play by play, weekly, injury, and season information\n",
    "\n",
    "pbp_df = pd.DataFrame(nfl.import_pbp_data([2024,2023,2022,2021,2020,2019,2018,2017,2016,2015,2014,2013,2012,2011,2010,2009,2008,2007,2006,2005,2004,2003,2002,2001,2000,1999]))\n",
    "weekly_df = pd.DataFrame(nfl.import_weekly_data([2024,2023,2022,2021,2020,2019,2018,2017,2016,2015,2014,2013,2012,2011,2010,2009,2008,2007,2006,2005,2004,2003,2002,2001,2000,1999]))\n",
    "injuries_df = pd.DataFrame(nfl.import_injuries([2024,2023,2022,2021,2020,2019,2018,2017,2016,2015,2014,2013,2012,2011,2010,2009,2008,2007,2006,2005,2004,2003,2002,2001,2000,1999]))\n",
    "schedules_df = pd.DataFrame(nfl.import_schedules([2024,2023,2022,2021,2020,2019,2018,2017,2016,2015,2014,2013,2012,2011,2010,2009,2008,2007,2006,2005,2004,2003,2002,2001,2000,1999]))\n",
    "\n"
   ]
  },
  {
   "cell_type": "code",
   "execution_count": null,
   "id": "b6dd52e9",
   "metadata": {},
   "outputs": [],
   "source": [
    "#Checking the columns in play by play\n",
    "pbp_df.columns"
   ]
  },
  {
   "cell_type": "code",
   "execution_count": null,
   "id": "6525e01f",
   "metadata": {},
   "outputs": [],
   "source": [
    "#Here, we aggregate each metric and group the result on the most relevant dimensions in the data set, although this list is not exhaustive and other dimensions may be added\n",
    "\n",
    "passing_stats = pbp_df.groupby(['game_id', 'game_date', 'week', 'div_game', 'home_team', 'away_team', 'weather', 'location', 'stadium',  'spread_line', 'total_line', 'roof', 'surface', 'temp', 'wind', 'home_coach', 'away_coach', 'passer_player_id', 'passer_player_name']).agg({\n",
    "    'pass_attempt': 'sum',\n",
    "    'complete_pass': 'sum',\n",
    "    'passing_yards': 'sum',\n",
    "    'air_yards': 'sum',\n",
    "    'pass_touchdown': 'sum',\n",
    "    'interception': 'sum',\n",
    "    'was_pressure': 'sum',\n",
    "    'rush_attempt': 'sum',\n",
    "    'rushing_yards': 'sum',# Sum passing yards\n",
    "    'rush_touchdown': 'sum',\n",
    "    'lateral_rush': 'sum',\n",
    "    'fumble': 'sum'\n",
    "}).reset_index()\n",
    "\n",
    "#Checking the passing stats dataframe\n",
    "passing_stats.head(15)"
   ]
  },
  {
   "cell_type": "code",
   "execution_count": null,
   "id": "024dad8b",
   "metadata": {},
   "outputs": [],
   "source": [
    "#Writing the dataframe to csv\n",
    "passing_stats.to_csv('nfl_passing_stats_1999_2024.csv')"
   ]
  },
  {
   "cell_type": "code",
   "execution_count": null,
   "id": "3b486f02",
   "metadata": {},
   "outputs": [],
   "source": [
    "#and we can do the same for rushing, receiving:\n",
    "\n",
    "rushing_stats = pbp_df.groupby(['game_id', 'game_date', 'week', 'div_game', 'home_team', 'away_team', 'weather', 'stadium',  'spread_line', 'total_line', 'roof', 'surface', 'temp', 'wind', 'home_coach', 'away_coach', 'rusher_player_id', 'rusher_player_name']).agg({\n",
    "    'passing_yards': 'sum',\n",
    "    'air_yards': 'sum',\n",
    "    'pass_touchdown': 'sum', \n",
    "    'pass_attempt': 'sum',\n",
    "    'complete_pass': 'sum',\n",
    "    'interception': 'sum',\n",
    "    'rush_attempt': 'sum',\n",
    "    'rushing_yards': 'sum',# Sum passing yards\n",
    "    'rush_touchdown': 'sum',\n",
    "    'lateral_rush': 'sum',\n",
    "    'receiving_yards': 'sum',\n",
    "    'yards_after_catch': 'sum',\n",
    "    'fumble': 'sum'\n",
    "}).reset_index()\n",
    "\n",
    "rushing_stats.head()\n"
   ]
  },
  {
   "cell_type": "code",
   "execution_count": null,
   "id": "5fafe82b",
   "metadata": {},
   "outputs": [],
   "source": [
    "rushing_stats.to_csv('nfl_rushing_stats_1999_2024.csv')"
   ]
  },
  {
   "cell_type": "code",
   "execution_count": null,
   "id": "8b2e40d4",
   "metadata": {},
   "outputs": [],
   "source": [
    "receiver_stats = pbp_df.groupby(['game_id', 'game_date', 'week', 'home_team', 'away_team', 'weather', 'stadium',  'spread_line', 'total_line', 'roof', 'surface', 'temp', 'wind', 'home_coach', 'away_coach', 'receiver_player_id', 'receiver_player_name']).agg({\n",
    "    'passing_yards': 'sum',\n",
    "    'air_yards': 'sum',\n",
    "    'pass_touchdown': 'sum', \n",
    "    'pass_attempt': 'sum',\n",
    "    'complete_pass': 'sum',\n",
    "    'interception': 'sum',\n",
    "    'rush_attempt': 'sum',\n",
    "    'rushing_yards': 'sum',# Sum passing yards\n",
    "    'rush_touchdown': 'sum',\n",
    "    'lateral_rush': 'sum',\n",
    "    'receiving_yards': 'sum',\n",
    "    'yards_after_catch':'sum',\n",
    "    'touchdown':'sum',\n",
    "    'receiver_id': 'count',\n",
    "    'fumble': 'sum'\n",
    "}).reset_index()\n",
    "\n",
    "\n",
    "receiver_stats.head()"
   ]
  },
  {
   "cell_type": "code",
   "execution_count": null,
   "id": "5a2ce4a2",
   "metadata": {},
   "outputs": [],
   "source": [
    "receiver_stats.to_csv('nfl_receiver_stats_1999_2024.csv')"
   ]
  },
  {
   "cell_type": "code",
   "execution_count": null,
   "id": "37c89085",
   "metadata": {},
   "outputs": [],
   "source": [
    "#kicking isn't as straightforward since the data doesn't have the same data points as are available with passing, rushing, and receiving:\n",
    "kicker_plays = pbp_df[pbp_df['kicker_player_name'].notnull()]\n",
    "\n",
    "# Filter out only successful field goals for longest field goal calculation\n",
    "made_field_goals = kicker_plays[kicker_plays['field_goal_result'] == 'made']\n",
    "\n",
    "# Aggregate kicker statistics including longest field goal and kickoff\n",
    "kicker_stats = kicker_plays.groupby(['game_id', 'game_date', 'week', 'div_game', 'home_team', 'away_team', 'weather', 'location', 'stadium',  'spread_line', 'total_line', 'roof', 'surface', 'temp', 'wind', 'home_coach', 'away_coach','kicker_player_id', 'kicker_player_name']).agg({\n",
    "    'field_goal_result': lambda x: (x == 'made').sum(),  # Sum of successful field goals\n",
    "    'extra_point_result': lambda x: (x == 'good').sum(),  # Sum of successful extra points\n",
    "    'kick_distance': 'sum',  # Sum of kickoff yardage\n",
    "    'field_goal_attempt': 'sum',  # Total field goal attempts\n",
    "    'kickoff_attempt': 'sum'\n",
    "}).reset_index()\n",
    "\n",
    "# Calculate longest successful field goal using the filtered made_field_goals DataFrame\n",
    "longest_fg = made_field_goals.groupby(['game_id','kicker_player_id', 'kicker_player_name'])['kick_distance'].max().reset_index()\n",
    "longest_fg.rename(columns={'kick_distance': 'longest_fg'}, inplace=True)\n",
    "# Merge longest field goal into kicker_stats\n",
    "kicker_stats = pd.merge(kicker_stats, longest_fg, on=['game_id', 'kicker_player_id', 'kicker_player_name'], how='left')\n",
    "\n",
    "# Rename the aggregated columns for clarity\n",
    "kicker_stats.rename(columns={\n",
    "    'field_goal_attempt': 'fg_attempts',\n",
    "    'field_goal_result': 'fg_made',\n",
    "    'longest_fg': 'longest_fg',\n",
    "    'extra_point_result': 'xp_made',\n",
    "    'kick_distance': 'total_kick_distance'\n",
    "}, inplace=True)\n",
    "\n",
    "kicker_stats.drop(columns=['kicker_player_name'], inplace=True)\n",
    "kicker_stats.head()\n",
    "\n",
    "kicker_stats.to_csv('nfl_kicker_stats_1999_2024.csv')"
   ]
  },
  {
   "cell_type": "code",
   "execution_count": null,
   "id": "30f472d6",
   "metadata": {},
   "outputs": [],
   "source": []
  },
  {
   "cell_type": "code",
   "execution_count": null,
   "id": "bb4eefb6",
   "metadata": {},
   "outputs": [],
   "source": []
  }
 ],
 "metadata": {
  "kernelspec": {
   "display_name": "Python 3 (ipykernel)",
   "language": "python",
   "name": "python3"
  },
  "language_info": {
   "codemirror_mode": {
    "name": "ipython",
    "version": 3
   },
   "file_extension": ".py",
   "mimetype": "text/x-python",
   "name": "python",
   "nbconvert_exporter": "python",
   "pygments_lexer": "ipython3",
   "version": "3.9.13"
  }
 },
 "nbformat": 4,
 "nbformat_minor": 5
}
